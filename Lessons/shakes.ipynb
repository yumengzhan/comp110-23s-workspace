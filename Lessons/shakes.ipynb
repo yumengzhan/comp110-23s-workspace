{
 "cells": [
  {
   "attachments": {},
   "cell_type": "markdown",
   "metadata": {},
   "source": [
    "1 #Quantifying Shakespeare\n",
    "2 Analyzing the frequencies of different letters in Shakespeare's work.\n",
    "3 \n",
    "4 (Data from: bit.ly/shakespeare-txt)\n",
    "5\n",
    "6 In this Notebook, we will:\n",
    "7 1. Read all of Shakespeare's works into a list of strings\n",
    "8 2. Count the frequencies of letters used\n",
    "9 3. Visualize the frequencies with a bar graph"
   ]
  },
  {
   "attachments": {},
   "cell_type": "markdown",
   "metadata": {},
   "source": [
    "Reading lines"
   ]
  },
  {
   "cell_type": "code",
   "execution_count": 3,
   "metadata": {},
   "outputs": [
    {
     "ename": "FileNotFoundError",
     "evalue": "[Errno 2] No such file or directory: '../datat.shakespeare.txt'",
     "output_type": "error",
     "traceback": [
      "\u001b[1;31m---------------------------------------------------------------------------\u001b[0m",
      "\u001b[1;31mFileNotFoundError\u001b[0m                         Traceback (most recent call last)",
      "Cell \u001b[1;32mIn[3], line 14\u001b[0m\n\u001b[0;32m     12\u001b[0m   file_handle\u001b[39m.\u001b[39mclose()\n\u001b[0;32m     13\u001b[0m   \u001b[39mreturn\u001b[39;00m lines\n\u001b[1;32m---> 14\u001b[0m shakespeare_lines:\u001b[39mlist\u001b[39m[\u001b[39mstr\u001b[39m] \u001b[39m=\u001b[39m read_lines(\u001b[39m\"\u001b[39;49m\u001b[39m../datat.shakespeare.txt\u001b[39;49m\u001b[39m\"\u001b[39;49m)\n\u001b[0;32m     15\u001b[0m \u001b[39mprint\u001b[39m(\u001b[39mlen\u001b[39m(shakespeare_lines))\n",
      "Cell \u001b[1;32mIn[3], line 5\u001b[0m, in \u001b[0;36mread_lines\u001b[1;34m(filename)\u001b[0m\n\u001b[0;32m      3\u001b[0m \u001b[39m\u001b[39m\u001b[39m\"\"\"Read a text file into a List of strings for each line\"\"\"\u001b[39;00m\n\u001b[0;32m      4\u001b[0m lines: \u001b[39mlist\u001b[39m[\u001b[39mstr\u001b[39m] \u001b[39m=\u001b[39m[]\n\u001b[1;32m----> 5\u001b[0m file_handle:TextIOWrapper \u001b[39m=\u001b[39m\u001b[39mopen\u001b[39;49m(filename,\u001b[39m\"\u001b[39;49m\u001b[39mr\u001b[39;49m\u001b[39m\"\u001b[39;49m)\n\u001b[0;32m      6\u001b[0m \u001b[39mfor\u001b[39;00m line \u001b[39min\u001b[39;00m file_handle:\n\u001b[0;32m      7\u001b[0m   \u001b[39m#strip leading and tailing whitespaces \" a \"->\"a\"\u001b[39;00m\n\u001b[0;32m      8\u001b[0m   line\u001b[39m=\u001b[39mline\u001b[39m.\u001b[39mstrip()\n",
      "File \u001b[1;32m~\\AppData\\Roaming\\Python\\Python311\\site-packages\\IPython\\core\\interactiveshell.py:282\u001b[0m, in \u001b[0;36m_modified_open\u001b[1;34m(file, *args, **kwargs)\u001b[0m\n\u001b[0;32m    275\u001b[0m \u001b[39mif\u001b[39;00m file \u001b[39min\u001b[39;00m {\u001b[39m0\u001b[39m, \u001b[39m1\u001b[39m, \u001b[39m2\u001b[39m}:\n\u001b[0;32m    276\u001b[0m     \u001b[39mraise\u001b[39;00m \u001b[39mValueError\u001b[39;00m(\n\u001b[0;32m    277\u001b[0m         \u001b[39mf\u001b[39m\u001b[39m\"\u001b[39m\u001b[39mIPython won\u001b[39m\u001b[39m'\u001b[39m\u001b[39mt let you open fd=\u001b[39m\u001b[39m{\u001b[39;00mfile\u001b[39m}\u001b[39;00m\u001b[39m by default \u001b[39m\u001b[39m\"\u001b[39m\n\u001b[0;32m    278\u001b[0m         \u001b[39m\"\u001b[39m\u001b[39mas it is likely to crash IPython. If you know what you are doing, \u001b[39m\u001b[39m\"\u001b[39m\n\u001b[0;32m    279\u001b[0m         \u001b[39m\"\u001b[39m\u001b[39myou can use builtins\u001b[39m\u001b[39m'\u001b[39m\u001b[39m open.\u001b[39m\u001b[39m\"\u001b[39m\n\u001b[0;32m    280\u001b[0m     )\n\u001b[1;32m--> 282\u001b[0m \u001b[39mreturn\u001b[39;00m io_open(file, \u001b[39m*\u001b[39;49margs, \u001b[39m*\u001b[39;49m\u001b[39m*\u001b[39;49mkwargs)\n",
      "\u001b[1;31mFileNotFoundError\u001b[0m: [Errno 2] No such file or directory: '../datat.shakespeare.txt'"
     ]
    }
   ],
   "source": [
    "from io import TextIOWrapper\n",
    "def read_lines(filename:str) -> list[str]:\n",
    "  \"\"\"Read a text file into a List of strings for each line\"\"\"\n",
    "  lines: list[str] =[]\n",
    "  file_handle:TextIOWrapper =open(filename,\"r\")\n",
    "  for line in file_handle:\n",
    "    #strip leading and tailing whitespaces \" a \"->\"a\"\n",
    "    line=line.strip()\n",
    "    #make every character lowercase\n",
    "    line=line.lower()\n",
    "    lines.append(line)\n",
    "  file_handle.close()\n",
    "  return lines\n",
    "shakespeare_lines:list[str] = read_lines(\"../datat.shakespeare.txt\")\n",
    "print(len(shakespeare_lines))"
   ]
  }
 ],
 "metadata": {
  "kernelspec": {
   "display_name": "Python 3",
   "language": "python",
   "name": "python3"
  },
  "language_info": {
   "codemirror_mode": {
    "name": "ipython",
    "version": 3
   },
   "file_extension": ".py",
   "mimetype": "text/x-python",
   "name": "python",
   "nbconvert_exporter": "python",
   "pygments_lexer": "ipython3",
   "version": "3.11.1"
  },
  "orig_nbformat": 4
 },
 "nbformat": 4,
 "nbformat_minor": 2
}
